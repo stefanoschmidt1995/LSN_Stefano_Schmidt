{
 "cells": [
  {
   "cell_type": "markdown",
   "metadata": {},
   "source": [
    "# <span style=\"color:green\"> Numerical Simulation Laboratory (NSL) </span>\n",
    "## <span style=\"color:blue\">  Numerical exercises 9</span>\n"
   ]
  },
  {
   "cell_type": "markdown",
   "metadata": {},
   "source": [
    "### The Traveling Salesman Problem\n",
    "\n",
    "The traveling salesman problem (TSP) consists of a salesman and a set of $N$ cities with positions $\\vec{c}_i$. The salesman **has to visit each one of the cities starting from a certain one (e.g. the hometown) and returning to the same city**. The challenge of the problem is that the traveling salesman wants to **minimize the total length of the trip**.\n",
    "\n",
    "Consider now the ordered sequence of cities, $\\vec{c}_1, \\vec{c}_2, \\dots, \\vec{c}_N$, which goes from city 1 to the n$^{th}$ city. The path that minimizes the following loss/cost function:\n",
    "\n",
    "$$\n",
    "L(\\vec{x}_1, \\vec{x}_2, \\dots, \\vec{x}_N) = \\sum_{i=1}^{N} |\\vec{x}_i-\\vec{x}_{i+1}|^2\n",
    "$$\n",
    "\n",
    "(with $\\vec{x}_{N+1}=\\vec{x}_1$) is one particular permutation, P, of the ordered sequence of cities $\\vec{c}_1, \\vec{c}_2, \\dots, \\vec{c}_N$, i.e. \n",
    "\n",
    "$$\n",
    "\\vec{x}_1, \\vec{x}_2, \\dots, \\vec{x}_N = \\vec{c}_{P1}, \\vec{c}_{P2}, \\dots, \\vec{c}_{PN}\n",
    "$$\n",
    "\n",
    "Note also that any particular permutation of the ordered sequence of cities can be obtained from the combination of many simple permutations among pairs of cities.\n",
    "\n",
    "We can express a possible path via a 1D vector whose elements, from the first to the last, are integers that represents the cities in the order in which the salesman would visit them; for example for $N=5$ cities one possible path is represented by the vector:\n",
    "\n",
    "$$\n",
    "\\left[ 1, 3, 5, 4, 2 \\right]\n",
    "$$\n",
    "\n",
    "**Alteratively**, we can express a possible path also via a configuration of a $N\\times N$ 2D *Ising-like* model with the following bonds:\n",
    "1. any row must have one and at most one up spin\n",
    "2. any column must have one and at most one up spin,\n",
    "\n",
    "all the other spins are down.\n",
    "\n",
    "We can represent such a configuration with a $N\\times N$ matrix whose elements are 1 (spin up) or 0 (spin down); for example, in the case of a TSP with 5 cities:\n",
    "$$\n",
    "\\begin{bmatrix}\n",
    "1 & 0 & 0 & 0 & 0\\\\\n",
    "0 & 0 & 0 & 0 & 1\\\\\n",
    "0 & 1 & 0 & 0 & 0\\\\\n",
    "0 & 0 & 0 & 1 & 0\\\\\n",
    "0 & 0 & 1 & 0 & 0\\\\\n",
    "\\end{bmatrix}\n",
    "$$\n",
    "\n",
    "You can interpret this matrix in the following way:\n",
    "- column index represents time of visit: first colum = first visit, etc.\n",
    "- row index represents the ordered sequence of cities: first row = first city, etc.\n",
    "\n",
    "the previous matrix thus refers to the following sequence:\n",
    "\n",
    "$$\n",
    "\\vec{x}_1, \\vec{x}_2, \\vec{x}_3, \\vec{x}_4, \\vec{x}_5 = \n",
    "\\vec{c}_{1}, \\vec{c}_{3}, \\vec{c}_{5}, \\vec{c}_{4}, \\vec{c}_{2}\n",
    "$$\n",
    "\n",
    "and thus to the following *cost* of the path:\n",
    "\n",
    "$$\n",
    "L(\\vec{x}_1, \\vec{x}_2, \\dots, \\vec{x}_N) = \n",
    "|\\vec{c}_1-\\vec{c}_3|^2 + |\\vec{c}_3-\\vec{c}_5|^2 + |\\vec{c}_5-\\vec{c}_4|^2 +\n",
    "|\\vec{c}_4-\\vec{c}_2|^2 + |\\vec{c}_2-\\vec{c}_1|^2\n",
    "$$\n",
    "\n",
    "Note that any particular permutation of the ordered sequence of cities can be obtained by a sequence of multiple pair permutations among rows and/or among columns.\n",
    "\n",
    "**<span style=\"color:red\">Warm suggestion: by using the 1D representation</span>** (but you can work with the representation you prefer or the one you are able to invent) ..."
   ]
  },
  {
   "cell_type": "markdown",
   "metadata": {},
   "source": [
    "### Exercise 09.1\n",
    "\n",
    "Write a C++ code to solve the TSP with a **Genetic** algorithm. Note that you should invent a *genetic-crossover* operator and **some** *genetic-mutation* operators which preserve the bonds of the problem (the salesman must visit one and only one time every city, apart from the first one, and must be back to the first city in the end of the path).\n",
    "Apply your code to the optimization of a path among \n",
    "\n",
    "- 30 cities randomly placed on a circumference\n",
    "- 30 cities randomly placed inside a square\n",
    "\n",
    "Show your results via:\n",
    "\n",
    "- a picture of the length of the best path as a function of the iteration of your algorithm\n",
    "- a picture of the best path"
   ]
  }
 ],
 "metadata": {
  "kernelspec": {
   "display_name": "Python 3",
   "language": "python",
   "name": "python3"
  },
  "language_info": {
   "codemirror_mode": {
    "name": "ipython",
    "version": 3
   },
   "file_extension": ".py",
   "mimetype": "text/x-python",
   "name": "python",
   "nbconvert_exporter": "python",
   "pygments_lexer": "ipython3",
   "version": "3.7.1"
  }
 },
 "nbformat": 4,
 "nbformat_minor": 2
}
